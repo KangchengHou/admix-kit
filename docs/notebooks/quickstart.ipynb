{
 "cells": [
  {
   "cell_type": "markdown",
   "metadata": {},
   "source": [
    "# Quick start (Python API)"
   ]
  },
  {
   "cell_type": "code",
   "execution_count": null,
   "metadata": {},
   "outputs": [],
   "source": [
    "import admix\n",
    "import numpy as np\n",
    "import matplotlib.pyplot as plt\n",
    "from os.path import join"
   ]
  },
  {
   "cell_type": "code",
   "execution_count": null,
   "metadata": {},
   "outputs": [],
   "source": [
    "dset_dir = admix.get_test_data_dir()"
   ]
  },
  {
   "cell_type": "code",
   "execution_count": null,
   "metadata": {},
   "outputs": [],
   "source": [
    "dset_admix = admix.io.read_dataset(join(dset_dir, \"toy-admix\"))\n",
    "dset_all = admix.io.read_dataset(join(dset_dir, \"toy-all\"))\n"
   ]
  },
  {
   "cell_type": "code",
   "execution_count": null,
   "metadata": {},
   "outputs": [],
   "source": [
    "dset_all"
   ]
  },
  {
   "cell_type": "code",
   "execution_count": null,
   "metadata": {},
   "outputs": [],
   "source": [
    "dset_all.indiv"
   ]
  },
  {
   "cell_type": "code",
   "execution_count": null,
   "metadata": {},
   "outputs": [],
   "source": [
    "ref_pops = [\"CEU\", \"YRI\"]"
   ]
  },
  {
   "cell_type": "code",
   "execution_count": null,
   "metadata": {},
   "outputs": [],
   "source": [
    "ref_dsets = [\n",
    "    dset_all[:, (dset_all.indiv[\"Population\"] == pop).values] for pop in ref_pops\n",
    "]\n",
    "est = admix.ancestry.lanc(sample_dset=dset_admix, ref_dsets=ref_dsets)\n",
    "admix.plot.lanc(lanc=est)"
   ]
  },
  {
   "cell_type": "code",
   "execution_count": null,
   "metadata": {},
   "outputs": [],
   "source": [
    "admix.plot.lanc(lanc=dset_admix.lanc.compute())"
   ]
  },
  {
   "cell_type": "code",
   "execution_count": null,
   "metadata": {},
   "outputs": [],
   "source": [
    "# Now we simulate phenotype for these admixed individuals.\n",
    "np.random.seed(1234)\n",
    "sim = admix.simulate.quant_pheno(dset=dset_admix, hsq=0.5, n_causal=2, n_sim=2)\n",
    "beta, pheno_g, pheno = sim[\"beta\"], sim[\"pheno_g\"], sim[\"pheno\"]\n",
    "print(beta.shape)  # (n_snp, n_anc, n_sim)\n",
    "print(pheno_g.shape)  # (n_indiv, n_sim)\n",
    "print(pheno.shape)  # (n_indiv, n_sim)"
   ]
  },
  {
   "cell_type": "code",
   "execution_count": null,
   "metadata": {},
   "outputs": [],
   "source": [
    "sim_i = 1\n",
    "sim_pheno = pheno[:, sim_i]\n",
    "sim_beta = beta[:, :, sim_i]\n",
    "df_assoc = admix.assoc.marginal(\n",
    "    dset=dset_admix,\n",
    "    pheno=sim_pheno,\n",
    "    method=\"ATT\",\n",
    "    family=\"linear\",\n",
    ")"
   ]
  },
  {
   "cell_type": "code",
   "execution_count": null,
   "metadata": {},
   "outputs": [],
   "source": [
    "df_assoc"
   ]
  },
  {
   "cell_type": "code",
   "execution_count": null,
   "metadata": {},
   "outputs": [],
   "source": [
    "fig, axes = plt.subplots(nrows=2, figsize=(5, 3), dpi=150, sharex=True)\n",
    "axes[0].scatter(np.arange(dset_admix.n_snp), sim_beta[:, 0], s=2)\n",
    "axes[0].set_ylabel(r\"$\\beta$\")\n",
    "\n",
    "admix.plot.manhattan(df_assoc.P, ax=axes[1], s=2)\n",
    "plt.tight_layout()\n",
    "plt.show()"
   ]
  }
 ],
 "metadata": {
  "kernelspec": {
   "display_name": "Python 3.8.5 ('base')",
   "language": "python",
   "name": "python3"
  },
  "language_info": {
   "codemirror_mode": {
    "name": "ipython",
    "version": 3
   },
   "file_extension": ".py",
   "mimetype": "text/x-python",
   "name": "python",
   "nbconvert_exporter": "python",
   "pygments_lexer": "ipython3",
   "version": "3.8.5"
  },
  "vscode": {
   "interpreter": {
    "hash": "72f278cd6c942f3856033fdbe87e954a02069b0b773a40823cc45dd6d0a136a4"
   }
  }
 },
 "nbformat": 4,
 "nbformat_minor": 4
}
