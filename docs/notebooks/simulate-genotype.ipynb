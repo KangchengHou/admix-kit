{
 "cells": [
  {
   "cell_type": "markdown",
   "metadata": {},
   "source": [
    "# Genotype simulation"
   ]
  },
  {
   "cell_type": "code",
   "execution_count": null,
   "metadata": {},
   "outputs": [],
   "source": [
    "import admix\n",
    "import os\n",
    "import matplotlib.pyplot as plt\n",
    "import numpy as np"
   ]
  },
  {
   "cell_type": "code",
   "execution_count": null,
   "metadata": {},
   "outputs": [],
   "source": [
    "# specify parameters\n",
    "n_indiv = 1000\n",
    "anc_props = [0.2, 0.8]"
   ]
  },
  {
   "cell_type": "code",
   "execution_count": null,
   "metadata": {},
   "outputs": [],
   "source": [
    "# specify reference data sets\n",
    "dset_dir = admix.get_test_data_dir()\n",
    "ref_dset = admix.io.read_dataset(os.path.join(dset_dir, \"toy-all\"))\n",
    "ref_dset_list = [\n",
    "    ref_dset[:, (ref_dset.indiv.Population == pop).values] for pop in [\"CEU\", \"YRI\"]\n",
    "]"
   ]
  },
  {
   "cell_type": "code",
   "execution_count": null,
   "metadata": {},
   "outputs": [],
   "source": [
    "# simulate 8 generations\n",
    "mosaic_size = admix.simulate.calculate_mosaic_size(\n",
    "    ref_dset.snp, \"hg38\", chrom=22, n_gen=8\n",
    ")\n",
    "\n",
    "np.random.seed(1234)\n",
    "dset = admix.simulate.admix_geno(\n",
    "    geno_list=[dset.geno for dset in ref_dset_list],\n",
    "    df_snp = ref_dset_list[0].snp,\n",
    "    n_indiv=n_indiv,\n",
    "    anc_props=[0.2, 0.8],\n",
    "    mosaic_size=mosaic_size,\n",
    ")"
   ]
  },
  {
   "cell_type": "code",
   "execution_count": null,
   "metadata": {},
   "outputs": [],
   "source": [
    "dset"
   ]
  },
  {
   "cell_type": "code",
   "execution_count": null,
   "metadata": {},
   "outputs": [],
   "source": [
    "fig, ax = plt.subplots(figsize=(4, 3), dpi=150)\n",
    "admix.plot.lanc(dset, ax=ax)"
   ]
  },
  {
   "cell_type": "code",
   "execution_count": null,
   "metadata": {},
   "outputs": [],
   "source": [
    "# sanity check for the consistency of frequency calculated in the reference data sets\n",
    "# and the frequency calculated in the admixed data set\n",
    "fig, axes = plt.subplots(figsize=(6, 3), dpi=150, ncols=2)\n",
    "for i in range(dset.n_anc):\n",
    "    axes[i].scatter(\n",
    "        ref_dset_list[i].geno.mean(axis=[1, 2]), dset.af_per_anc()[:, i], s=1\n",
    "    )\n",
    "    axes[i].set_title(f\"Ancestry {i + 1}\")\n",
    "    axes[i].set_xlabel(\"Frequency in reference\")\n",
    "    axes[i].set_ylabel(\"Frequency in admixed\")\n",
    "    axes[i].plot([0, 1], [0, 1], \"k--\")\n",
    "\n",
    "fig.tight_layout()"
   ]
  }
 ],
 "metadata": {
  "kernelspec": {
   "display_name": "Python 3",
   "language": "python",
   "name": "python3"
  },
  "language_info": {
   "codemirror_mode": {
    "name": "ipython",
    "version": 3
   },
   "file_extension": ".py",
   "mimetype": "text/x-python",
   "name": "python",
   "nbconvert_exporter": "python",
   "pygments_lexer": "ipython3",
   "version": "3.8.5"
  }
 },
 "nbformat": 4,
 "nbformat_minor": 4
}
