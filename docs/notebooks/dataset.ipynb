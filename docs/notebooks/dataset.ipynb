{
 "cells": [
  {
   "cell_type": "markdown",
   "metadata": {},
   "source": [
    "# admix.Dataset\n",
    "\n",
    "We introduce the central data stuctures used in this package.\n",
    "\n",
    "- `dset.geno`: genotype (``n_snp``, ``n_indiv``, ``n_ploidy``)\n",
    "- `dset.lanc`: local ancestry (``n_snp``, ``n_indiv``, ``n_ploidy``)\n",
    "- `dset.snp`: information about SNPs (``n_snp``, ``n_snp_feature``)\n",
    "- `dset.indiv`: information about individuals (``n_indiv``, ``n_indiv_feature``)\n",
    "\n",
    "Central in python API is the admix.Dataset class, which support various convenient operations for manipulating large on-disk data sets."
   ]
  },
  {
   "cell_type": "code",
   "execution_count": null,
   "metadata": {},
   "outputs": [],
   "source": [
    "import admix\n",
    "\n",
    "# load toy data\n",
    "dset = admix.load_toy_admix()"
   ]
  },
  {
   "cell_type": "code",
   "execution_count": null,
   "metadata": {},
   "outputs": [],
   "source": [
    "# overview of data set\n",
    "dset"
   ]
  },
  {
   "cell_type": "code",
   "execution_count": null,
   "metadata": {},
   "outputs": [],
   "source": [
    "# SNP attributes, CHROM (chromosomes), POS (positions), REF (reference allele), ALT (alternative allele), etc.\n",
    "# we have also precomputed FREQ1, FREQ2 as ancestry-specific allele frequencies\n",
    "dset.snp"
   ]
  },
  {
   "cell_type": "code",
   "execution_count": null,
   "metadata": {},
   "outputs": [],
   "source": [
    "# individual attributes\n",
    "dset.indiv"
   ]
  },
  {
   "cell_type": "code",
   "execution_count": null,
   "metadata": {},
   "outputs": [],
   "source": [
    "# phased genotype (n_snp, n_indiv, 2)\n",
    "dset.geno"
   ]
  },
  {
   "cell_type": "code",
   "execution_count": null,
   "metadata": {},
   "outputs": [],
   "source": [
    "# local ancestry (n_snp, n_indiv, 2)\n",
    "dset.lanc"
   ]
  },
  {
   "cell_type": "code",
   "execution_count": null,
   "metadata": {},
   "outputs": [],
   "source": [
    "# subset the first 50 SNPs\n",
    "dset[0:50, :]"
   ]
  },
  {
   "cell_type": "code",
   "execution_count": null,
   "metadata": {},
   "outputs": [],
   "source": [
    "# subset the first 50 individuals\n",
    "dset[:, 0:50]"
   ]
  },
  {
   "cell_type": "code",
   "execution_count": null,
   "metadata": {},
   "outputs": [],
   "source": [
    "# subset the first 50 SNPs and first 50 individuals\n",
    "dset[0:50:, 0:50]"
   ]
  },
  {
   "cell_type": "code",
   "execution_count": null,
   "metadata": {},
   "outputs": [],
   "source": [
    "# calculate allele per ancestry backgrounds\n",
    "dset.allele_per_anc()"
   ]
  },
  {
   "cell_type": "code",
   "execution_count": null,
   "metadata": {},
   "outputs": [],
   "source": [
    "# calculate allele frequencies per ancestry backgrounds\n",
    "dset.af_per_anc()"
   ]
  }
 ],
 "metadata": {
  "kernelspec": {
   "display_name": "Python 3.8.5 ('base')",
   "language": "python",
   "name": "python3"
  },
  "language_info": {
   "codemirror_mode": {
    "name": "ipython",
    "version": 3
   },
   "file_extension": ".py",
   "mimetype": "text/x-python",
   "name": "python",
   "nbconvert_exporter": "python",
   "pygments_lexer": "ipython3",
   "version": "3.8.5"
  },
  "vscode": {
   "interpreter": {
    "hash": "72f278cd6c942f3856033fdbe87e954a02069b0b773a40823cc45dd6d0a136a4"
   }
  }
 },
 "nbformat": 4,
 "nbformat_minor": 4
}
