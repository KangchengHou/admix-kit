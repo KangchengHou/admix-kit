{
 "cells": [
  {
   "cell_type": "markdown",
   "metadata": {},
   "source": [
    "# Quick start (Python API)"
   ]
  },
  {
   "cell_type": "code",
   "execution_count": 1,
   "metadata": {
    "execution": {
     "iopub.execute_input": "2024-02-14T18:43:56.539058Z",
     "iopub.status.busy": "2024-02-14T18:43:56.538865Z",
     "iopub.status.idle": "2024-02-14T18:43:57.756643Z",
     "shell.execute_reply": "2024-02-14T18:43:57.756048Z"
    }
   },
   "outputs": [],
   "source": [
    "import admix\n",
    "import numpy as np\n",
    "import matplotlib.pyplot as plt\n",
    "from os.path import join"
   ]
  },
  {
   "cell_type": "code",
   "execution_count": 2,
   "metadata": {
    "execution": {
     "iopub.execute_input": "2024-02-14T18:43:57.759242Z",
     "iopub.status.busy": "2024-02-14T18:43:57.758939Z",
     "iopub.status.idle": "2024-02-14T18:43:57.761822Z",
     "shell.execute_reply": "2024-02-14T18:43:57.761305Z"
    }
   },
   "outputs": [],
   "source": [
    "dset_dir = admix.dataset.get_test_data_dir()"
   ]
  },
  {
   "cell_type": "code",
   "execution_count": 3,
   "metadata": {
    "execution": {
     "iopub.execute_input": "2024-02-14T18:43:57.764077Z",
     "iopub.status.busy": "2024-02-14T18:43:57.763726Z",
     "iopub.status.idle": "2024-02-14T18:43:57.788911Z",
     "shell.execute_reply": "2024-02-14T18:43:57.788458Z"
    }
   },
   "outputs": [],
   "source": [
    "dset_admix = admix.io.read_dataset(join(dset_dir, \"toy-admix\"))\n",
    "dset_all = admix.io.read_dataset(join(dset_dir, \"toy-all\"))"
   ]
  },
  {
   "cell_type": "code",
   "execution_count": 4,
   "metadata": {
    "execution": {
     "iopub.execute_input": "2024-02-14T18:43:57.790911Z",
     "iopub.status.busy": "2024-02-14T18:43:57.790734Z",
     "iopub.status.idle": "2024-02-14T18:43:57.796210Z",
     "shell.execute_reply": "2024-02-14T18:43:57.795648Z"
    }
   },
   "outputs": [
    {
     "data": {
      "text/plain": [
       "admix.Dataset object with n_snp x n_indiv = 1834 x 268, no local ancestry\n",
       "\tsnp: 'CHROM', 'POS', 'REF', 'ALT'\n",
       "\tindiv: 'PAT', 'MAT', 'SEX', 'SuperPop', 'Population'"
      ]
     },
     "execution_count": 4,
     "metadata": {},
     "output_type": "execute_result"
    }
   ],
   "source": [
    "dset_all"
   ]
  },
  {
   "cell_type": "code",
   "execution_count": 5,
   "metadata": {
    "execution": {
     "iopub.execute_input": "2024-02-14T18:43:57.798124Z",
     "iopub.status.busy": "2024-02-14T18:43:57.797941Z",
     "iopub.status.idle": "2024-02-14T18:43:57.918438Z",
     "shell.execute_reply": "2024-02-14T18:43:57.917850Z"
    }
   },
   "outputs": [
    {
     "name": "stderr",
     "output_type": "stream",
     "text": [
      "/home/runner/work/admix-kit/admix-kit/admix/plot/_plot.py:345: UserWarning: Only the first 10 are plotted. To plot more individuals, increase `max_indiv`\n",
      "  warnings.warn(\n"
     ]
    },
    {
     "data": {
      "image/png": "[encoded data removed]",
      "text/plain": [
       "<Figure size 640x480 with 1 Axes>"
      ]
     },
     "metadata": {},
     "output_type": "display_data"
    }
   ],
   "source": [
    "admix.plot.lanc(dset=dset_admix)"
   ]
  },
  {
   "cell_type": "code",
   "execution_count": 6,
   "metadata": {
    "execution": {
     "iopub.execute_input": "2024-02-14T18:43:57.921091Z",
     "iopub.status.busy": "2024-02-14T18:43:57.920649Z",
     "iopub.status.idle": "2024-02-14T18:43:58.056736Z",
     "shell.execute_reply": "2024-02-14T18:43:58.056185Z"
    }
   },
   "outputs": [
    {
     "data": {
      "image/png": "[encoded data removed]",
      "text/plain": [
       "<Figure size 640x480 with 1 Axes>"
      ]
     },
     "metadata": {},
     "output_type": "display_data"
    }
   ],
   "source": [
    "admix.plot.lanc(lanc=dset_admix.lanc.compute())"
   ]
  },
  {
   "cell_type": "code",
   "execution_count": 7,
   "metadata": {
    "execution": {
     "iopub.execute_input": "2024-02-14T18:43:58.059042Z",
     "iopub.status.busy": "2024-02-14T18:43:58.058703Z",
     "iopub.status.idle": "2024-02-14T18:43:58.078451Z",
     "shell.execute_reply": "2024-02-14T18:43:58.077869Z"
    }
   },
   "outputs": [
    {
     "name": "stderr",
     "output_type": "stream",
     "text": [
      "\r",
      "admix.simulate.quant_pheno:   0%|          | 0/2 [00:00<?, ?it/s]"
     ]
    },
    {
     "name": "stderr",
     "output_type": "stream",
     "text": [
      "\r",
      "admix.simulate.quant_pheno: 100%|██████████| 2/2 [00:00<00:00, 182.99it/s]"
     ]
    },
    {
     "name": "stdout",
     "output_type": "stream",
     "text": [
      "(1834, 2, 2)\n",
      "(61, 2)\n",
      "(61, 2)\n"
     ]
    },
    {
     "name": "stderr",
     "output_type": "stream",
     "text": [
      "\n"
     ]
    }
   ],
   "source": [
    "# Now we simulate phenotype for these admixed individuals.\n",
    "np.random.seed(1234)\n",
    "sim = admix.simulate.quant_pheno(dset=dset_admix, hsq=0.5, n_causal=2, n_sim=2)\n",
    "beta, pheno_g, pheno = sim[\"beta\"], sim[\"pheno_g\"], sim[\"pheno\"]\n",
    "print(beta.shape)  # (n_snp, n_anc, n_sim)\n",
    "print(pheno_g.shape)  # (n_indiv, n_sim)\n",
    "print(pheno.shape)  # (n_indiv, n_sim)"
   ]
  },
  {
   "cell_type": "code",
   "execution_count": 8,
   "metadata": {
    "execution": {
     "iopub.execute_input": "2024-02-14T18:43:58.080759Z",
     "iopub.status.busy": "2024-02-14T18:43:58.080402Z",
     "iopub.status.idle": "2024-02-14T18:43:58.103490Z",
     "shell.execute_reply": "2024-02-14T18:43:58.102925Z"
    }
   },
   "outputs": [
    {
     "name": "stderr",
     "output_type": "stream",
     "text": [
      "\r",
      "admix.assoc.marginal:   0%|          | 0/2 [00:00<?, ?it/s]"
     ]
    },
    {
     "name": "stderr",
     "output_type": "stream",
     "text": [
      "\r",
      "admix.assoc.marginal: 100%|██████████| 2/2 [00:00<00:00, 135.17it/s]"
     ]
    },
    {
     "name": "stderr",
     "output_type": "stream",
     "text": [
      "\n"
     ]
    }
   ],
   "source": [
    "sim_i = 1\n",
    "sim_pheno = pheno[:, sim_i]\n",
    "sim_beta = beta[:, :, sim_i]\n",
    "df_assoc = admix.assoc.marginal(\n",
    "    dset=dset_admix,\n",
    "    pheno=sim_pheno,\n",
    "    method=\"ATT\",\n",
    "    family=\"linear\",\n",
    ")"
   ]
  },
  {
   "cell_type": "code",
   "execution_count": 9,
   "metadata": {
    "execution": {
     "iopub.execute_input": "2024-02-14T18:43:58.105665Z",
     "iopub.status.busy": "2024-02-14T18:43:58.105308Z",
     "iopub.status.idle": "2024-02-14T18:43:58.114063Z",
     "shell.execute_reply": "2024-02-14T18:43:58.113602Z"
    }
   },
   "outputs": [
    {
     "data": {
      "text/html": [
       "<div>\n",
       "<style scoped>\n",
       "    .dataframe tbody tr th:only-of-type {\n",
       "        vertical-align: middle;\n",
       "    }\n",
       "\n",
       "    .dataframe tbody tr th {\n",
       "        vertical-align: top;\n",
       "    }\n",
       "\n",
       "    .dataframe thead th {\n",
       "        text-align: right;\n",
       "    }\n",
       "</style>\n",
       "<table border=\"1\" class=\"dataframe\">\n",
       "  <thead>\n",
       "    <tr style=\"text-align: right;\">\n",
       "      <th></th>\n",
       "      <th>G_BETA</th>\n",
       "      <th>G_SE</th>\n",
       "      <th>N</th>\n",
       "      <th>P</th>\n",
       "    </tr>\n",
       "    <tr>\n",
       "      <th>snp</th>\n",
       "      <th></th>\n",
       "      <th></th>\n",
       "      <th></th>\n",
       "      <th></th>\n",
       "    </tr>\n",
       "  </thead>\n",
       "  <tbody>\n",
       "    <tr>\n",
       "      <th>rs148050615</th>\n",
       "      <td>0.454393</td>\n",
       "      <td>0.573420</td>\n",
       "      <td>61</td>\n",
       "      <td>0.431287</td>\n",
       "    </tr>\n",
       "    <tr>\n",
       "      <th>rs12160291</th>\n",
       "      <td>-1.296505</td>\n",
       "      <td>1.110985</td>\n",
       "      <td>61</td>\n",
       "      <td>0.247910</td>\n",
       "    </tr>\n",
       "    <tr>\n",
       "      <th>rs200031263</th>\n",
       "      <td>0.399336</td>\n",
       "      <td>0.268912</td>\n",
       "      <td>61</td>\n",
       "      <td>0.142865</td>\n",
       "    </tr>\n",
       "    <tr>\n",
       "      <th>rs148779243</th>\n",
       "      <td>-0.025490</td>\n",
       "      <td>0.191752</td>\n",
       "      <td>61</td>\n",
       "      <td>0.894700</td>\n",
       "    </tr>\n",
       "    <tr>\n",
       "      <th>rs5746279</th>\n",
       "      <td>-0.271912</td>\n",
       "      <td>0.258380</td>\n",
       "      <td>61</td>\n",
       "      <td>0.296920</td>\n",
       "    </tr>\n",
       "    <tr>\n",
       "      <th>...</th>\n",
       "      <td>...</td>\n",
       "      <td>...</td>\n",
       "      <td>...</td>\n",
       "      <td>...</td>\n",
       "    </tr>\n",
       "    <tr>\n",
       "      <th>rs12166626</th>\n",
       "      <td>1.509744</td>\n",
       "      <td>0.481625</td>\n",
       "      <td>61</td>\n",
       "      <td>0.002680</td>\n",
       "    </tr>\n",
       "    <tr>\n",
       "      <th>rs5770995</th>\n",
       "      <td>-0.159861</td>\n",
       "      <td>0.204451</td>\n",
       "      <td>61</td>\n",
       "      <td>0.437397</td>\n",
       "    </tr>\n",
       "    <tr>\n",
       "      <th>rs113267916</th>\n",
       "      <td>0.329944</td>\n",
       "      <td>0.574861</td>\n",
       "      <td>61</td>\n",
       "      <td>0.568180</td>\n",
       "    </tr>\n",
       "    <tr>\n",
       "      <th>rs575582761</th>\n",
       "      <td>0.254872</td>\n",
       "      <td>0.659044</td>\n",
       "      <td>61</td>\n",
       "      <td>0.700348</td>\n",
       "    </tr>\n",
       "    <tr>\n",
       "      <th>rs9616974</th>\n",
       "      <td>-0.122896</td>\n",
       "      <td>0.358607</td>\n",
       "      <td>61</td>\n",
       "      <td>0.733038</td>\n",
       "    </tr>\n",
       "  </tbody>\n",
       "</table>\n",
       "<p>1834 rows × 4 columns</p>\n",
       "</div>"
      ],
      "text/plain": [
       "               G_BETA      G_SE   N         P\n",
       "snp                                          \n",
       "rs148050615  0.454393  0.573420  61  0.431287\n",
       "rs12160291  -1.296505  1.110985  61  0.247910\n",
       "rs200031263  0.399336  0.268912  61  0.142865\n",
       "rs148779243 -0.025490  0.191752  61  0.894700\n",
       "rs5746279   -0.271912  0.258380  61  0.296920\n",
       "...               ...       ...  ..       ...\n",
       "rs12166626   1.509744  0.481625  61  0.002680\n",
       "rs5770995   -0.159861  0.204451  61  0.437397\n",
       "rs113267916  0.329944  0.574861  61  0.568180\n",
       "rs575582761  0.254872  0.659044  61  0.700348\n",
       "rs9616974   -0.122896  0.358607  61  0.733038\n",
       "\n",
       "[1834 rows x 4 columns]"
      ]
     },
     "execution_count": 9,
     "metadata": {},
     "output_type": "execute_result"
    }
   ],
   "source": [
    "df_assoc"
   ]
  },
  {
   "cell_type": "code",
   "execution_count": 10,
   "metadata": {
    "execution": {
     "iopub.execute_input": "2024-02-14T18:43:58.116148Z",
     "iopub.status.busy": "2024-02-14T18:43:58.115826Z",
     "iopub.status.idle": "2024-02-14T18:43:58.444938Z",
     "shell.execute_reply": "2024-02-14T18:43:58.444321Z"
    }
   },
   "outputs": [
    {
     "data": {
      "image/png": "[encoded data removed]",
      "text/plain": [
       "<Figure size 750x450 with 2 Axes>"
      ]
     },
     "metadata": {},
     "output_type": "display_data"
    }
   ],
   "source": [
    "fig, axes = plt.subplots(nrows=2, figsize=(5, 3), dpi=150, sharex=True)\n",
    "axes[0].scatter(np.arange(dset_admix.n_snp), sim_beta[:, 0], s=2)\n",
    "axes[0].set_ylabel(r\"$\\beta$\")\n",
    "\n",
    "admix.plot.manhattan(df_assoc.P, ax=axes[1], s=2)\n",
    "plt.tight_layout()\n",
    "plt.show()"
   ]
  }
 ],
 "metadata": {
  "kernelspec": {
   "display_name": "Python 3 (ipykernel)",
   "language": "python",
   "name": "python3"
  },
  "language_info": {
   "codemirror_mode": {
    "name": "ipython",
    "version": 3
   },
   "file_extension": ".py",
   "mimetype": "text/x-python",
   "name": "python",
   "nbconvert_exporter": "python",
   "pygments_lexer": "ipython3",
   "version": "3.8.18"
  }
 },
 "nbformat": 4,
 "nbformat_minor": 4
}
